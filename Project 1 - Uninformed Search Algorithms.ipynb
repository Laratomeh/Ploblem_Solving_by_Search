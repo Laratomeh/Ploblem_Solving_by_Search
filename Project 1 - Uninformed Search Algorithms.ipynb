{
 "cells": [
  {
   "cell_type": "markdown",
   "metadata": {
    "id": "DqfPHQT7oe2f"
   },
   "source": [
    "## **Uninformed Search Algorithms**"
   ]
  },
  {
   "cell_type": "markdown",
   "metadata": {
    "id": "e_IRA0ECBkE4"
   },
   "source": [
    "### Q1: Determine whether an undirected graph contains a cycle or not."
   ]
  },
  {
   "cell_type": "markdown",
   "metadata": {},
   "source": [
    "#### Solution using Breadth–first search (BFS) Algorithm"
   ]
  },
  {
   "cell_type": "code",
   "execution_count": 6,
   "metadata": {
    "colab": {
     "base_uri": "https://localhost:8080/"
    },
    "id": "wsNxB8vrB96J",
    "outputId": "a6cc1028-6985-4d17-a41a-707eb4f8e6e8"
   },
   "outputs": [
    {
     "name": "stdout",
     "output_type": "stream",
     "text": [
      "There is a cycle in the graph.\n"
     ]
    }
   ],
   "source": [
    "from collections import deque\n",
    "\n",
    "# edges = [(0, 1), (0, 2), (1, 3), (2, 4), (2, 5), (4, 6), (4, 7)]\n",
    "# n = 8\n",
    "\n",
    "edges = [(0, 1), (0, 2), (0, 3), (1, 4), (1, 5), (2, 6), (2, 7), (3, 8), (8, 7)]\n",
    "n = 9\n",
    "\n",
    "class Graph:\n",
    "    def __init__(self, edges, n):\n",
    "        self.adjList = [[] for _ in range(n)]\n",
    "        # adding edges to the graph \"undirected\"\n",
    "        for (src, dest) in edges:\n",
    "            self.adjList[src].append(dest)\n",
    "            self.adjList[dest].append(src)\n",
    "            \n",
    "def BFS(graph, src, n):\n",
    "    # to keep track of whether a vertex is discovered or not\n",
    "    discovered = [False] * n\n",
    "    # mark the source vertex as discovered\n",
    "    discovered[src] = True\n",
    "    # create a queue for doing BFS\n",
    "    q = deque()\n",
    "    # enqueue source vertex and its parent info\n",
    "    q.append((src, -1))\n",
    "    # loop till queue is empty\n",
    "    while q:\n",
    "        # dequeue front node and print it\n",
    "        (v, parent) = q.popleft()\n",
    "        # do for every edge (v, u)\n",
    "        for u in graph.adjList[v]:\n",
    "            if not discovered[u]:\n",
    "                # mark it as discovered\n",
    "                discovered[u] = True\n",
    "                # construct the queue node containing info\n",
    "                # about vertex and enqueue it\n",
    "                q.append((u, v))\n",
    "            # `u` is discovered, and `u` is not a parent\n",
    "            elif u != parent:\n",
    "                # we found a cross-edge, i.e., the cycle is found\n",
    "                return True\n",
    "    # no cross-edges were found in the graph\n",
    "    return False\n",
    "  \n",
    "if __name__ == '__main__':\n",
    "    # build a graph from the given edges\n",
    "    graph = Graph(edges, n)\n",
    "    # Perform BFS traversal in connected components of a graph\n",
    "    if BFS(graph, 0, n):\n",
    "        print('There is a cycle in the graph.')\n",
    "    else:\n",
    "        print('There is no cycle in the graph.')"
   ]
  },
  {
   "cell_type": "markdown",
   "metadata": {},
   "source": [
    "#### Solution using Depth–first search (DFS) Algorithm"
   ]
  },
  {
   "cell_type": "code",
   "execution_count": 8,
   "metadata": {
    "colab": {
     "base_uri": "https://localhost:8080/"
    },
    "id": "bkXLT0moB-OG",
    "outputId": "5f5cbdaf-3bb6-4dd3-c3d3-ff90054aacc9"
   },
   "outputs": [
    {
     "name": "stdout",
     "output_type": "stream",
     "text": [
      "There is no cycle in the graph.\n"
     ]
    }
   ],
   "source": [
    "edges = [(0, 1), (0, 2), (1, 3), (2, 4), (2, 7), (4, 5), (4, 6)]\n",
    "n = 8\n",
    "\n",
    "# edges = [(0, 1), (0, 2), (0, 3), (1, 4), (1, 5), (2, 6), (2, 7), (3, 8)]\n",
    "# n = 9\n",
    "\n",
    "# A class to represent a graph object\n",
    "class Graph:\n",
    "    # Constructor\n",
    "    def __init__(self, edges, n):\n",
    "        # A list of lists to represent an adjacency list\n",
    "        self.adjList = [[] for _ in range(n)]\n",
    "        # add edges to the undirected graph\n",
    "        for (src, dest) in edges:\n",
    "            self.adjList[src].append(dest)\n",
    "            self.adjList[dest].append(src)\n",
    " \n",
    " \n",
    "# Function to perform DFS traversal on the graph \n",
    "def DFS(graph, v, discovered, parent=-1):\n",
    "    # mark the current node as discovered\n",
    "    discovered[v] = True\n",
    "    # do for every edge (v, w)\n",
    "    for w in graph.adjList[v]:\n",
    "        # if `w` is not discovered\n",
    "        if not discovered[w]:\n",
    "            if DFS(graph, w, discovered, v):\n",
    "                return True\n",
    "        # if `w` is discovered, and `w` is not a parent\n",
    "        elif w != parent:\n",
    "            # we found a back-edge (cycle)\n",
    "            return True\n",
    "    # No back-edges were found in the graph\n",
    "    return False\n",
    " \n",
    "if __name__ == '__main__':\n",
    "    # build a graph from the given edges\n",
    "    graph = Graph(edges, n)\n",
    "    # to keep track of whether a vertex is discovered or not\n",
    "    discovered = [False] * n\n",
    "    # Perform DFS traversal from the first vertex\n",
    "    if DFS(graph, 0, discovered):\n",
    "        print('There is a cycle in the graph.')\n",
    "    else:\n",
    "        print('There is no cycle in the graph.')"
   ]
  },
  {
   "cell_type": "markdown",
   "metadata": {
    "id": "P2Y2mhpzBxWF"
   },
   "source": [
    "### Q2: Determine the graph's root vertex, where the graph is directed."
   ]
  },
  {
   "cell_type": "markdown",
   "metadata": {},
   "source": [
    "#### Solution using Depth–first search (DFS) Algorithm"
   ]
  },
  {
   "cell_type": "code",
   "execution_count": 9,
   "metadata": {
    "id": "_XleHOFSB11t"
   },
   "outputs": [
    {
     "name": "stdout",
     "output_type": "stream",
     "text": [
      "The root vertex is 2\n"
     ]
    }
   ],
   "source": [
    "edges = [(0, 1), (2,0), (1, 3), (2, 4), (2, 7), (4, 5), (4, 6), (7, 6)]\n",
    "n = 8\n",
    "# A class to represent a graph object\n",
    "class Graph:\n",
    "    def __init__(self, edges, n):\n",
    "        # resize the list to hold `n` elements\n",
    "        self.adj = [[] for _ in range(n)]\n",
    "        # add an edge from source to destination\n",
    "        for edge in edges:\n",
    "            self.adj[edge[0]].append(edge[1])\n",
    " \n",
    " \n",
    "# Function to perform DFS traversal on the graph\n",
    "def DFS(graph, v, discovered):\n",
    "    discovered[v] = True        # mark the current node as discovered\n",
    "    # do for every edge (v, u)\n",
    "    for u in graph.adj[v]:\n",
    "        if not discovered[u]:   # `u` is not discovered\n",
    "            DFS(graph, u, discovered)\n",
    "        \n",
    "# Function to find the root vertex of a graph\n",
    "def findRootVertex(graph, n):\n",
    "    # to keep track of all previously discovered vertices in DFS\n",
    "    discovered = [False] * n\n",
    "    # find the last starting vertex `v` in DFS\n",
    "    v = 0\n",
    "    for i in range(n):\n",
    "        if not discovered[i]:\n",
    "            DFS(graph, i, discovered)\n",
    "            v = i\n",
    "    # reset the discovered vertices\n",
    "    discovered[:] = [False] * n\n",
    "    # perform DFS on the graph from the last starting vertex `v`\n",
    "    DFS(graph, v, discovered)\n",
    "    # return -1 if all vertices are not reachable from vertex `v`\n",
    "    for i in range(n):\n",
    "        if not discovered[i]:\n",
    "            return -1\n",
    "    # we reach here only if `v` is a root vertex\n",
    "    return v\n",
    " \n",
    "if __name__ == '__main__':\n",
    "    # build a directed graph from the given edges\n",
    "    graph = Graph(edges, n)\n",
    "    # find the root vertex in the graph\n",
    "    root = findRootVertex(graph, n)\n",
    "    if root != -1:\n",
    "        print('The root vertex is', root)\n",
    "    else:\n",
    "        print('There is no root vertex in the graph.')"
   ]
  },
  {
   "cell_type": "code",
   "execution_count": null,
   "metadata": {},
   "outputs": [],
   "source": []
  }
 ],
 "metadata": {
  "colab": {
   "provenance": [],
   "toc_visible": true
  },
  "kernelspec": {
   "display_name": "Python 3 (ipykernel)",
   "language": "python",
   "name": "python3"
  },
  "language_info": {
   "codemirror_mode": {
    "name": "ipython",
    "version": 3
   },
   "file_extension": ".py",
   "mimetype": "text/x-python",
   "name": "python",
   "nbconvert_exporter": "python",
   "pygments_lexer": "ipython3",
   "version": "3.9.13"
  }
 },
 "nbformat": 4,
 "nbformat_minor": 1
}
