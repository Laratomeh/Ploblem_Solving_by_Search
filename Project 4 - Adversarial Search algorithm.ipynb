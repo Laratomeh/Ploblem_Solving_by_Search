{
 "cells": [
  {
   "cell_type": "markdown",
   "id": "07b5ef7d",
   "metadata": {},
   "source": [
    "# Tic Tac Toe Using The Minimax Algorithm (Adversarial Search)\n",
    "\n",
    "Adversarial search is search when there is an \"enemy\" or \"opponent\" changing the state of the problem every step in a direction you do not want."
   ]
  },
  {
   "cell_type": "markdown",
   "id": "4cc5dd51",
   "metadata": {},
   "source": [
    "### The Minimax algorithm tries to predict the opponent's behaviour.\n",
    "It predicts the opponent will take the worst action from our viewpoint.\n",
    "\n",
    "We are MAX - trying to maximise our score / move to best state.\n",
    "\n",
    "Opponent is MIN - tries to minimise our score / move to worst state for us."
   ]
  },
  {
   "cell_type": "code",
   "execution_count": 17,
   "id": "26f5565e",
   "metadata": {},
   "outputs": [],
   "source": [
    "#define the board as a dictionary\n",
    "board = {0:' ', 1:' ', 2:' ',3:' ', 4:' ', 5:' ',6:' ', 7:' ', 8:' '}"
   ]
  },
  {
   "cell_type": "code",
   "execution_count": 18,
   "id": "617dcd96",
   "metadata": {},
   "outputs": [],
   "source": [
    "#Print board\n",
    "def PrintBoard(board):\n",
    "    print(board[0]+' | '+board[1]+' | '+board[2])\n",
    "    print('-----------')\n",
    "    print(board[3] + ' | ' + board[4] + ' | ' + board[5])\n",
    "    print('-----------')\n",
    "    print(board[6] + ' | ' + board[7] + ' | ' + board[8])\n",
    "    print('\\n')"
   ]
  },
  {
   "cell_type": "code",
   "execution_count": 19,
   "id": "a845d9c3",
   "metadata": {},
   "outputs": [
    {
     "name": "stdout",
     "output_type": "stream",
     "text": [
      "  |   |  \n",
      "-----------\n",
      "  |   |  \n",
      "-----------\n",
      "  |   |  \n",
      "\n",
      "\n"
     ]
    }
   ],
   "source": [
    "PrintBoard(board)"
   ]
  },
  {
   "cell_type": "code",
   "execution_count": 20,
   "id": "3c3db8b5",
   "metadata": {},
   "outputs": [],
   "source": [
    "Bot ='X'\n",
    "Player = 'O'"
   ]
  },
  {
   "cell_type": "code",
   "execution_count": 21,
   "id": "f5ce26a6",
   "metadata": {},
   "outputs": [],
   "source": [
    "#check for win\n",
    "def CheckForWin():\n",
    "    #check for rows\n",
    "    if (board[0]==board[1] and board[0]==board[2] and board[0] !=' '):\n",
    "        return True\n",
    "    elif (board[3]==board[4] and board[3]==board[5] and board[3] !=' '):\n",
    "        return True\n",
    "    elif (board[6]==board[7] and board[6]==board[8] and board[6] !=' '):\n",
    "        return True\n",
    "    #check for diagnols\n",
    "    elif (board[0]==board[4] and board[0]==board[8] and board[0] !=' '):\n",
    "        return True\n",
    "    elif (board[2]==board[4] and board[2]==board[6] and board[2] !=' '):\n",
    "        return True\n",
    "    #check for columns\n",
    "    elif (board[0]==board[3] and board[0]==board[6] and board[0] !=' '):\n",
    "        return True\n",
    "    elif (board[1]==board[4] and board[1]==board[7] and board[1] !=' '):\n",
    "        return True\n",
    "    elif (board[2]==board[5] and board[2]==board[8] and board[2] !=' '):\n",
    "        return True\n",
    "    else:\n",
    "        return False"
   ]
  },
  {
   "cell_type": "code",
   "execution_count": 22,
   "id": "e6765ee5",
   "metadata": {},
   "outputs": [],
   "source": [
    "#check who win\n",
    "def CheckWhoWin(mark):\n",
    "    #check for rows\n",
    "    if (board[0]==board[1] and board[0]==board[2] and board[0] ==mark):\n",
    "        return True\n",
    "    elif (board[3]==board[4] and board[3]==board[5] and board[3] ==mark):\n",
    "        return True\n",
    "    elif (board[6]==board[7] and board[6]==board[8] and board[6] ==mark):\n",
    "        return True\n",
    "    #check for\n",
    "    elif (board[0]==board[4] and board[0]==board[8] and board[0] ==mark):\n",
    "        return True\n",
    "    elif (board[2]==board[4] and board[2]==board[6] and board[2] ==mark):\n",
    "        return True\n",
    "    #check for columns\n",
    "    elif (board[0]==board[3] and board[0]==board[6] and board[0] ==mark):\n",
    "        return True\n",
    "    elif (board[1]==board[4] and board[1]==board[7] and board[1] ==mark):\n",
    "        return True\n",
    "    elif (board[2]==board[5] and board[2]==board[8] and board[2] ==mark):\n",
    "        return True\n",
    "    else:\n",
    "        return False"
   ]
  },
  {
   "cell_type": "code",
   "execution_count": 23,
   "id": "0949c49c",
   "metadata": {},
   "outputs": [],
   "source": [
    "def CheckForDraw():\n",
    "    #check for every positions are full\n",
    "    counter=0\n",
    "    for i in range(9):\n",
    "        if board[i]!=' ':\n",
    "            counter=counter+1\n",
    "    if counter==9 :\n",
    "        return True\n",
    "    else:\n",
    "        return False"
   ]
  },
  {
   "cell_type": "code",
   "execution_count": 24,
   "id": "ccbc298d",
   "metadata": {},
   "outputs": [],
   "source": [
    "#Check is a certain position is empty\n",
    "def SpaceIsFree(position):\n",
    "    if (board[position]==' '):\n",
    "        return True\n",
    "    else:\n",
    "        return False"
   ]
  },
  {
   "cell_type": "code",
   "execution_count": 25,
   "id": "dc414ed2",
   "metadata": {},
   "outputs": [],
   "source": [
    "def PlayerMove():\n",
    "    position=int(input('Enter position:'))\n",
    "    InsertLetter(Player, position)"
   ]
  },
  {
   "cell_type": "code",
   "execution_count": 26,
   "id": "0b728cf6",
   "metadata": {},
   "outputs": [],
   "source": [
    "#Insert letter and check for wining\n",
    "def InsertLetter(letter, position):\n",
    "    if (SpaceIsFree(position)):\n",
    "        board[position]=letter\n",
    "        PrintBoard(board)    \n",
    "    else:\n",
    "        #Player picks wrong number\n",
    "        print('please pick a different position')\n",
    "        position=int(input('Enter new position: '))\n",
    "        InsertLetter(letter, position)"
   ]
  },
  {
   "cell_type": "code",
   "execution_count": 27,
   "id": "cd2f325e",
   "metadata": {},
   "outputs": [],
   "source": [
    "#function for bot move\n",
    "def BotMove():\n",
    "    BestScore=-10\n",
    "    Move=10\n",
    "    for key in board.keys(): \n",
    "        \n",
    "        if (board[key]==' '):\n",
    "            board[key]=Bot\n",
    "            score = MinimaxMin(board) \n",
    "            board[key] = ' '\n",
    "            \n",
    "            if (score > BestScore):\n",
    "                BestScore = score\n",
    "                Move = key\n",
    " \n",
    "    InsertLetter(Bot, Move)"
   ]
  },
  {
   "cell_type": "code",
   "execution_count": 28,
   "id": "1ddc0b6e",
   "metadata": {},
   "outputs": [],
   "source": [
    "def MinimaxMax(board):\n",
    "    if (CheckWhoWin(Bot)):\n",
    "        return 1\n",
    "    elif (CheckWhoWin(Player)):\n",
    "        return -1\n",
    "    elif (CheckForDraw()):\n",
    "        return 0\n",
    "        \n",
    "    v=-10\n",
    "    #create succcessors\n",
    "    for key in board.keys():\n",
    "        if board[key]==' ':\n",
    "            board[key]=Bot\n",
    "            \n",
    "    #call minimax for successors\n",
    "            score=MinimaxMin(board)\n",
    "            board[key]=' '\n",
    "            if score>v:\n",
    "                v=score\n",
    "    return v"
   ]
  },
  {
   "cell_type": "code",
   "execution_count": 29,
   "id": "93fed080",
   "metadata": {},
   "outputs": [],
   "source": [
    "def MinimaxMin(board):\n",
    "    if (CheckWhoWin(Bot)):\n",
    "        return 1\n",
    "    elif (CheckWhoWin(Player)):\n",
    "        return -1\n",
    "    elif (CheckForDraw()):\n",
    "        return 0\n",
    "    \n",
    "    v=10\n",
    "    #create succcessors\n",
    "    for key in board.keys():\n",
    "        if board[key]==' ':\n",
    "            board[key]=Player\n",
    "            \n",
    "    #call minimax for successors\n",
    "            score=MinimaxMax(board)\n",
    "            board[key]=' '\n",
    "            if score<v:\n",
    "                v=score\n",
    "            \n",
    "    return v"
   ]
  },
  {
   "cell_type": "code",
   "execution_count": 30,
   "id": "e35af5b1",
   "metadata": {},
   "outputs": [
    {
     "name": "stdout",
     "output_type": "stream",
     "text": [
      "X |   |  \n",
      "-----------\n",
      "  |   |  \n",
      "-----------\n",
      "  |   |  \n",
      "\n",
      "\n",
      "Enter position:5\n",
      "X |   |  \n",
      "-----------\n",
      "  |   | O\n",
      "-----------\n",
      "  |   |  \n",
      "\n",
      "\n",
      "X |   | X\n",
      "-----------\n",
      "  |   | O\n",
      "-----------\n",
      "  |   |  \n",
      "\n",
      "\n",
      "Enter position:7\n",
      "X |   | X\n",
      "-----------\n",
      "  |   | O\n",
      "-----------\n",
      "  | O |  \n",
      "\n",
      "\n",
      "X | X | X\n",
      "-----------\n",
      "  |   | O\n",
      "-----------\n",
      "  | O |  \n",
      "\n",
      "\n",
      "U lose!\n"
     ]
    }
   ],
   "source": [
    "# Main\n",
    "while not CheckForWin() and not CheckForDraw() :\n",
    "    BotMove()\n",
    "    if CheckForWin() or CheckForDraw():\n",
    "        break\n",
    "    PlayerMove()\n",
    "#end of the game \n",
    "if (CheckWhoWin(Bot)):\n",
    "    print('U lose!')\n",
    "    \n",
    "elif(CheckWhoWin(Player)):\n",
    "    print('U win!')\n",
    "    \n",
    "elif(CheckForDraw()):\n",
    "    print('Draw')"
   ]
  },
  {
   "cell_type": "code",
   "execution_count": null,
   "id": "f6733997",
   "metadata": {},
   "outputs": [],
   "source": []
  }
 ],
 "metadata": {
  "kernelspec": {
   "display_name": "Python 3 (ipykernel)",
   "language": "python",
   "name": "python3"
  },
  "language_info": {
   "codemirror_mode": {
    "name": "ipython",
    "version": 3
   },
   "file_extension": ".py",
   "mimetype": "text/x-python",
   "name": "python",
   "nbconvert_exporter": "python",
   "pygments_lexer": "ipython3",
   "version": "3.9.13"
  }
 },
 "nbformat": 4,
 "nbformat_minor": 5
}
